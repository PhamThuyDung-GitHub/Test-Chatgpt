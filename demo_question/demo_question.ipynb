{
 "cells": [
  {
   "cell_type": "code",
   "execution_count": 2,
   "metadata": {},
   "outputs": [
    {
     "name": "stderr",
     "output_type": "stream",
     "text": [
      "c:\\Users\\ungdu\\AppData\\Local\\Programs\\Python\\Python312\\Lib\\site-packages\\sentence_transformers\\cross_encoder\\CrossEncoder.py:11: TqdmExperimentalWarning: Using `tqdm.autonotebook.tqdm` in notebook mode. Use `tqdm.tqdm` instead to force console mode (e.g. in jupyter console)\n",
      "  from tqdm.autonotebook import tqdm, trange\n"
     ]
    },
    {
     "data": {
      "text/plain": [
       "True"
      ]
     },
     "execution_count": 2,
     "metadata": {},
     "output_type": "execute_result"
    }
   ],
   "source": [
    "import pandas as pd\n",
    "import nltk\n",
    "from sklearn.metrics.pairwise import cosine_similarity\n",
    "from sklearn.feature_extraction.text import TfidfVectorizer\n",
    "import chromadb\n",
    "from chromadb.config import Settings\n",
    "from sentence_transformers import SentenceTransformer\n",
    "import numpy as np\n",
    "nltk.download(\"punkt\", quiet=True)"
   ]
  },
  {
   "cell_type": "code",
   "execution_count": 3,
   "metadata": {},
   "outputs": [
    {
     "data": {
      "text/html": [
       "<div>\n",
       "<style scoped>\n",
       "    .dataframe tbody tr th:only-of-type {\n",
       "        vertical-align: middle;\n",
       "    }\n",
       "\n",
       "    .dataframe tbody tr th {\n",
       "        vertical-align: top;\n",
       "    }\n",
       "\n",
       "    .dataframe thead th {\n",
       "        text-align: right;\n",
       "    }\n",
       "</style>\n",
       "<table border=\"1\" class=\"dataframe\">\n",
       "  <thead>\n",
       "    <tr style=\"text-align: right;\">\n",
       "      <th></th>\n",
       "      <th>Câu hỏi</th>\n",
       "      <th>Câu trả lời</th>\n",
       "    </tr>\n",
       "  </thead>\n",
       "  <tbody>\n",
       "    <tr>\n",
       "      <th>0</th>\n",
       "      <td>Các quả có mùi vị như thế nào?</td>\n",
       "      <td>Quả cam ngon. Quả táo dở. Quả chanh chua. Quả ...</td>\n",
       "    </tr>\n",
       "    <tr>\n",
       "      <th>1</th>\n",
       "      <td>Các quả có hình dáng như thế nào?</td>\n",
       "      <td>Quả cam có hình tròn. Quả táo có hình tròn, hơ...</td>\n",
       "    </tr>\n",
       "  </tbody>\n",
       "</table>\n",
       "</div>"
      ],
      "text/plain": [
       "                             Câu hỏi  \\\n",
       "0     Các quả có mùi vị như thế nào?   \n",
       "1  Các quả có hình dáng như thế nào?   \n",
       "\n",
       "                                         Câu trả lời  \n",
       "0  Quả cam ngon. Quả táo dở. Quả chanh chua. Quả ...  \n",
       "1  Quả cam có hình tròn. Quả táo có hình tròn, hơ...  "
      ]
     },
     "execution_count": 3,
     "metadata": {},
     "output_type": "execute_result"
    }
   ],
   "source": [
    "file_path = r'C:\\Users\\ungdu\\Downloads\\Test_Chatgpt\\test_data.csv' #import data\n",
    "data = pd.read_csv(file_path)\n",
    "data"
   ]
  },
  {
   "cell_type": "code",
   "execution_count": 4,
   "metadata": {},
   "outputs": [
    {
     "name": "stderr",
     "output_type": "stream",
     "text": [
      "[nltk_data] Downloading package punkt to\n",
      "[nltk_data]     C:\\Users\\ungdu\\AppData\\Roaming\\nltk_data...\n",
      "[nltk_data]   Package punkt is already up-to-date!\n"
     ]
    },
    {
     "data": {
      "text/plain": [
       "['Các quả có mùi vị như thế nào?']"
      ]
     },
     "metadata": {},
     "output_type": "display_data"
    },
    {
     "data": {
      "text/plain": [
       "['Các quả có hình dáng như thế nào?']"
      ]
     },
     "metadata": {},
     "output_type": "display_data"
    }
   ],
   "source": [
    "import pandas as pd\n",
    "import nltk\n",
    "from IPython.display import display\n",
    "\n",
    "# Tải bộ dữ liệu phân tách câu của NLTK nếu chưa có\n",
    "nltk.download('punkt')\n",
    "\n",
    "\n",
    "# Danh sách chứa tất cả các câu đã phân tách\n",
    "all_sentences = []\n",
    "\n",
    "# Lặp qua từng dòng của DataFrame\n",
    "for _, row in data.iterrows():\n",
    "    # Lấy nội dung cột \"Câu trả lời\"\n",
    "    text = row.get(\"Câu hỏi\", \"\")\n",
    "    \n",
    "    # Kiểm tra nếu text không rỗng và là chuỗi\n",
    "    if text and isinstance(text, str):\n",
    "        # Chia văn bản thành các câu\n",
    "        sentences = nltk.sent_tokenize(text)\n",
    "        \n",
    "        # Hiển thị từng câu đã tách (chỉ để kiểm tra)\n",
    "        display(sentences)\n",
    "        \n",
    "        # Thêm các câu này vào danh sách tổng hợp\n",
    "        all_sentences.extend(sentences)"
   ]
  },
  {
   "cell_type": "code",
   "execution_count": 5,
   "metadata": {},
   "outputs": [
    {
     "name": "stdout",
     "output_type": "stream",
     "text": [
      "Đã lưu 2 câu vào file 'extracted_sentences.csv'.\n"
     ]
    }
   ],
   "source": [
    "# Tạo DataFrame từ danh sách các câu\n",
    "sentences_df = pd.DataFrame({'Câu hỏi': all_sentences})\n",
    "\n",
    "# Lưu DataFrame vào file CSV\n",
    "output_filename = 'extracted_sentences.csv'\n",
    "sentences_df.to_csv(output_filename, index=False, encoding='utf-8-sig')\n",
    "\n",
    "print(f\"Đã lưu {len(all_sentences)} câu vào file '{output_filename}'.\")"
   ]
  },
  {
   "cell_type": "code",
   "execution_count": 12,
   "metadata": {},
   "outputs": [
    {
     "name": "stdout",
     "output_type": "stream",
     "text": [
      "                             Câu hỏi\n",
      "0     Các quả có mùi vị như thế nào?\n",
      "1  Các quả có hình dáng như thế nào?\n",
      "Đã tải 2 câu từ 'extracted_sentences.csv'.\n"
     ]
    }
   ],
   "source": [
    "import pandas as pd\n",
    "import nltk\n",
    "from sklearn.feature_extraction.text import TfidfVectorizer\n",
    "from sklearn.metrics.pairwise import cosine_similarity\n",
    "\n",
    "# Đọc file CSV chứa các câu đã được tách\n",
    "sentences_df = pd.read_csv('extracted_sentences.csv', encoding='utf-8-sig')\n",
    "print(sentences_df)\n",
    "# Hiển thị số lượng câu đã được tải\n",
    "print(f\"Đã tải {len(sentences_df)} câu từ 'extracted_sentences.csv'.\")"
   ]
  },
  {
   "cell_type": "code",
   "execution_count": 13,
   "metadata": {},
   "outputs": [
    {
     "name": "stdout",
     "output_type": "stream",
     "text": [
      "Ma trận TF-IDF có kích thước: (2, 10)\n",
      "Mẫu độ tương đồng giữa các câu:\n",
      "[[1.         0.60297482]\n",
      " [0.60297482 1.        ]]\n"
     ]
    }
   ],
   "source": [
    "# Bước 3: Vector hóa các câu sử dụng TF-IDF\n",
    "vectorizer = TfidfVectorizer()\n",
    "tfidf_matrix = vectorizer.fit_transform(sentences_df['Câu hỏi'])\n",
    "\n",
    "# Hiển thị kích thước ma trận TF-IDF\n",
    "print(f\"Ma trận TF-IDF có kích thước: {tfidf_matrix.shape}\")\n",
    "\n",
    "# Bước 2: Tính độ tương đồng giữa các câu bằng cosine similarity\n",
    "# Tính ma trận độ tương đồng giữa các câu\n",
    "cosine_sim = cosine_similarity(tfidf_matrix, tfidf_matrix)\n",
    "\n",
    "# Hiển thị một phần ma trận độ tương đồng\n",
    "print(\"Mẫu độ tương đồng giữa các câu:\")\n",
    "print(cosine_sim[:5, :5])"
   ]
  },
  {
   "cell_type": "code",
   "execution_count": 8,
   "metadata": {},
   "outputs": [
    {
     "name": "stdout",
     "output_type": "stream",
     "text": [
      "Đã lưu ma trận TF-IDF vào file 'tfidf_matrix.csv'.\n"
     ]
    }
   ],
   "source": [
    "# 1. Lưu Ma Trận TF-IDF\n",
    "# Chuyển đổi ma trận TF-IDF thành DataFrame\n",
    "# Lưu ý: Nếu số lượng từ vựng (features) lớn, việc lưu trữ có thể tiêu tốn nhiều dung lượng\n",
    "tfidf_df = pd.DataFrame(tfidf_matrix.toarray(), columns=vectorizer.get_feature_names_out())\n",
    "\n",
    "# Lưu DataFrame TF-IDF vào CSV\n",
    "tfidf_output_filename = 'tfidf_matrix.csv'\n",
    "tfidf_df.to_csv(tfidf_output_filename, index=False, encoding='utf-8-sig')\n",
    "\n",
    "print(f\"Đã lưu ma trận TF-IDF vào file '{tfidf_output_filename}'.\")"
   ]
  },
  {
   "cell_type": "code",
   "execution_count": 9,
   "metadata": {},
   "outputs": [
    {
     "name": "stdout",
     "output_type": "stream",
     "text": [
      "Đã lưu ma trận cosine similarity vào file 'cosine_similarity_matrix.csv'.\n"
     ]
    }
   ],
   "source": [
    "# 2. Lưu Ma Trận Cosine Similarity\n",
    "# Chuyển đổi ma trận cosine similarity thành DataFrame\n",
    "cosine_sim_df = pd.DataFrame(cosine_sim, index=sentences_df.index, columns=sentences_df.index)\n",
    "\n",
    "# Lưu DataFrame cosine similarity vào CSV\n",
    "cosine_sim_output_filename = 'cosine_similarity_matrix.csv'\n",
    "cosine_sim_df.to_csv(cosine_sim_output_filename, index=True, encoding='utf-8-sig')\n",
    "\n",
    "print(f\"Đã lưu ma trận cosine similarity vào file '{cosine_sim_output_filename}'.\")"
   ]
  },
  {
   "cell_type": "code",
   "execution_count": 10,
   "metadata": {},
   "outputs": [
    {
     "name": "stdout",
     "output_type": "stream",
     "text": [
      "Độ tương đồng giữa câu 1 và câu 2: 0.60\n",
      "Đã lưu 1 chunks vào file 'chunked_sentences.csv'.\n"
     ]
    }
   ],
   "source": [
    "# Bước 4: Gép các câu lại với nhau dựa trên độ tương đồng\n",
    "\n",
    "# Thiết lập ngưỡng độ tương đồng\n",
    "SIMILARITY_THRESHOLD = 0.3  # Bạn có thể điều chỉnh ngưỡng này\n",
    "\n",
    "# Danh sách để lưu các chunk\n",
    "chunks = []\n",
    "current_chunk = sentences_df.iloc[0]['Câu hỏi']  # Bắt đầu với câu đầu tiên\n",
    "\n",
    "for i in range(1, len(sentences_df)):\n",
    "    prev_sentence = sentences_df.iloc[i - 1]['Câu hỏi']\n",
    "    current_sentence = sentences_df.iloc[i]['Câu hỏi']\n",
    "    \n",
    "    # Vector hóa câu hiện tại và câu trước đó\n",
    "    prev_vector = vectorizer.transform([prev_sentence])\n",
    "    current_vector = vectorizer.transform([current_sentence])\n",
    "    \n",
    "    # Tính độ tương đồng giữa câu trước và câu hiện tại\n",
    "    similarity = cosine_similarity(prev_vector, current_vector)[0][0]\n",
    "    \n",
    "    print(f\"Độ tương đồng giữa câu {i} và câu {i+1}: {similarity:.2f}\")\n",
    "    \n",
    "    if similarity >= SIMILARITY_THRESHOLD:\n",
    "        # Gép câu hiện tại vào chunk hiện tại\n",
    "        current_chunk += ' ' + current_sentence\n",
    "    else:\n",
    "        # Thêm chunk hiện tại vào danh sách và bắt đầu chunk mới\n",
    "        chunks.append(current_chunk)\n",
    "        current_chunk = current_sentence\n",
    "\n",
    "# Thêm chunk cuối cùng vào danh sách\n",
    "chunks.append(current_chunk)\n",
    "\n",
    "# Tạo DataFrame từ các chunk\n",
    "chunks_df = pd.DataFrame({'Chunk': chunks})\n",
    "\n",
    "# Lưu các chunk vào file CSV mới\n",
    "output_chunk_filename = 'chunked_sentences.csv'\n",
    "chunks_df.to_csv(output_chunk_filename, index=False, encoding='utf-8-sig')\n",
    "\n",
    "print(f\"Đã lưu {len(chunks)} chunks vào file '{output_chunk_filename}'.\")"
   ]
  },
  {
   "cell_type": "code",
   "execution_count": null,
   "metadata": {},
   "outputs": [],
   "source": []
  }
 ],
 "metadata": {
  "kernelspec": {
   "display_name": "Python 3",
   "language": "python",
   "name": "python3"
  },
  "language_info": {
   "codemirror_mode": {
    "name": "ipython",
    "version": 3
   },
   "file_extension": ".py",
   "mimetype": "text/x-python",
   "name": "python",
   "nbconvert_exporter": "python",
   "pygments_lexer": "ipython3",
   "version": "3.12.5"
  }
 },
 "nbformat": 4,
 "nbformat_minor": 2
}
