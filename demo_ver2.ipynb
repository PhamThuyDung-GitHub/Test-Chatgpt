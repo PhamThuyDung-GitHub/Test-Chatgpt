{
 "cells": [
  {
   "cell_type": "markdown",
   "metadata": {},
   "source": [
    "# EXPLAIN & TEST FLOWCHART "
   ]
  },
  {
   "cell_type": "code",
   "execution_count": 3,
   "metadata": {},
   "outputs": [],
   "source": [
    "import pandas as pd"
   ]
  },
  {
   "cell_type": "code",
   "execution_count": 9,
   "metadata": {},
   "outputs": [],
   "source": [
    "# Function to handle file upload and data reading\n",
    "def upload_and_process_files(uploaded_files):\n",
    "    \"\"\"\n",
    "    Function to upload and process the CSV files.\n",
    "\n",
    "    Args:\n",
    "    uploaded_files (list): List of file paths.\n",
    "\n",
    "    Returns:\n",
    "    pd.DataFrame: Combined DataFrame from all uploaded CSV files.\n",
    "    \"\"\"\n",
    "    for file_path in uploaded_files:\n",
    "        print(f\"Processing file: {file_path}\")\n",
    "        if file_path.endswith(\".csv\"):\n",
    "            try:\n",
    "                # Try to read the CSV file\n",
    "                df = pd.read_csv(file_path)\n",
    "                all_data.append(df)\n",
    "            except pd.errors.ParserError:\n",
    "                # Handle CSV parsing error\n",
    "                raise ValueError(f\"Error: The file {file_path} is not in the correct format of a .csv file.\")\n",
    "    \n",
    "    if all_data:\n",
    "        # Combine all DataFrames into one\n",
    "        df_combined = pd.concat(all_data, ignore_index=True)\n",
    "        return df_combined\n",
    "    else:\n",
    "        return None"
   ]
  },
  {
   "cell_type": "code",
   "execution_count": 10,
   "metadata": {},
   "outputs": [
    {
     "name": "stdout",
     "output_type": "stream",
     "text": [
      "Processing file: C:\\Users\\ungdu\\Downloads\\Test Chatgpt\\Test data.csv\n"
     ]
    },
    {
     "data": {
      "text/html": [
       "<div>\n",
       "<style scoped>\n",
       "    .dataframe tbody tr th:only-of-type {\n",
       "        vertical-align: middle;\n",
       "    }\n",
       "\n",
       "    .dataframe tbody tr th {\n",
       "        vertical-align: top;\n",
       "    }\n",
       "\n",
       "    .dataframe thead th {\n",
       "        text-align: right;\n",
       "    }\n",
       "</style>\n",
       "<table border=\"1\" class=\"dataframe\">\n",
       "  <thead>\n",
       "    <tr style=\"text-align: right;\">\n",
       "      <th></th>\n",
       "      <th>Câu hỏi</th>\n",
       "      <th>Câu trả lời</th>\n",
       "    </tr>\n",
       "  </thead>\n",
       "  <tbody>\n",
       "    <tr>\n",
       "      <th>0</th>\n",
       "      <td>Các quả có mùi vị như thế nào</td>\n",
       "      <td>Quả cam ngon. Quả táo dở. Quả chanh chua. Quả ...</td>\n",
       "    </tr>\n",
       "    <tr>\n",
       "      <th>1</th>\n",
       "      <td>Các quả có hình dáng như thế nào</td>\n",
       "      <td>Quả cam có hình tròn. Quả táo có hình tròn, hơ...</td>\n",
       "    </tr>\n",
       "  </tbody>\n",
       "</table>\n",
       "</div>"
      ],
      "text/plain": [
       "                            Câu hỏi   \\\n",
       "0      Các quả có mùi vị như thế nào   \n",
       "1  Các quả có hình dáng như thế nào    \n",
       "\n",
       "                                         Câu trả lời  \n",
       "0  Quả cam ngon. Quả táo dở. Quả chanh chua. Quả ...  \n",
       "1  Quả cam có hình tròn. Quả táo có hình tròn, hơ...  "
      ]
     },
     "metadata": {},
     "output_type": "display_data"
    }
   ],
   "source": [
    "# Replace with actual file paths\n",
    "uploaded_files = [r'C:\\Users\\ungdu\\Downloads\\Test Chatgpt\\Test data.csv']  # Provide full file path(s)\n",
    "\n",
    "df_combined = upload_and_process_files(uploaded_files)\n",
    "\n",
    "if df_combined is not None:\n",
    "    # Display the DataFrame in Jupyter notebook\n",
    "    display(df_combined)\n",
    "else:\n",
    "    print(\"No data to display.\")"
   ]
  },
  {
   "cell_type": "markdown",
   "metadata": {},
   "source": [
    "# CHUNKING"
   ]
  },
  {
   "cell_type": "code",
   "execution_count": null,
   "metadata": {},
   "outputs": [],
   "source": [
    "import pandas as pd\n",
    "from semantic_chunker import SemanticChunker\n",
    "\n",
    "# Function to test chunking\n",
    "def test_chunking_with_file(file_path):\n",
    "    # Step 1: Load the CSV file into a pandas DataFrame\n",
    "    df = pd.read_csv(file_path)\n",
    "\n",
    "    # Display the loaded DataFrame (to verify it's correct)\n",
    "    print(\"Original Data:\")\n",
    "    print(df)\n",
    "    \n",
    "    # Step 2: Initialize the chunker with your desired settings\n",
    "    chunker = SemanticChunker(threshold=0.3, embedding_type=\"tfidf\")\n",
    "\n",
    "    # Step 3: Process the \"Câu trả lời\" column using the chunker\n",
    "    chunked_texts = []\n",
    "    for answer in df[\"Câu trả lời\"]:\n",
    "        chunks = chunker.split_text(answer)\n",
    "        chunked_texts.append(chunks)\n",
    "\n",
    "    # Step 4: Add the chunked texts to the DataFrame (optional)\n",
    "    df[\"Chunked Câu trả lời\"] = chunked_texts\n",
    "\n",
    "    # Display the chunked DataFrame\n",
    "    print(\"\\nChunked Data:\")\n",
    "    print(df[[\"Câu hỏi\", \"Chunked Câu trả lời\"]])\n",
    "\n",
    "# Example: Test the function with your sample data CSV file\n",
    "# Replace with the actual path of your CSV file\n",
    "file_path = r'C:\\Users\\ungdu\\Downloads\\Test Chatgpt\\Test data.csv'  # Change to your file path\n",
    "test_chunking_with_file(file_path)\n"
   ]
  }
 ],
 "metadata": {
  "kernelspec": {
   "display_name": "Python 3",
   "language": "python",
   "name": "python3"
  },
  "language_info": {
   "codemirror_mode": {
    "name": "ipython",
    "version": 3
   },
   "file_extension": ".py",
   "mimetype": "text/x-python",
   "name": "python",
   "nbconvert_exporter": "python",
   "pygments_lexer": "ipython3",
   "version": "3.12.5"
  }
 },
 "nbformat": 4,
 "nbformat_minor": 2
}
